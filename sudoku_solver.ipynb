{
 "cells": [
  {
   "cell_type": "markdown",
   "id": "f61055e0",
   "metadata": {},
   "source": [
    "# Genetic Algorithm"
   ]
  },
  {
   "cell_type": "markdown",
   "id": "ef69798b",
   "metadata": {},
   "source": [
    "In this project, the aim is to solve a sudoku puzzle using the genetic algorithm"
   ]
  },
  {
   "cell_type": "code",
   "execution_count": 1,
   "id": "8bd63cc2",
   "metadata": {
    "ExecuteTime": {
     "end_time": "2023-05-29T11:29:10.920391670Z",
     "start_time": "2023-05-29T11:29:10.920047102Z"
    }
   },
   "outputs": [],
   "source": [
    "import random as rndm\n",
    "import time"
   ]
  },
  {
   "cell_type": "markdown",
   "id": "6527cc01",
   "metadata": {},
   "source": [
    "## Part 1: Defining Genes and Chromosomes"
   ]
  },
  {
   "cell_type": "markdown",
   "id": "f44516b4",
   "metadata": {},
   "source": [
    "A gene is the value of a row and is a permutation of set {1 ... 9}. A chromosome consists of 9 genes, each gene representing a row of the actual sudoku puzzle."
   ]
  },
  {
   "cell_type": "code",
   "execution_count": 2,
   "id": "62151fed",
   "metadata": {
    "ExecuteTime": {
     "end_time": "2023-05-29T11:29:12.531465713Z",
     "start_time": "2023-05-29T11:29:12.480669591Z"
    }
   },
   "outputs": [],
   "source": [
    "def make_gene(initial=None):\n",
    "    if initial is None:\n",
    "        initial = [0] * 9\n",
    "    mapp = {}\n",
    "    gene = list(range(1, 10))\n",
    "    rndm.shuffle(gene)\n",
    "    for i in range(9):\n",
    "        mapp[gene[i]] = i\n",
    "    for i in range(9):\n",
    "        if initial[i] != 0 and gene[i] != initial[i]:\n",
    "            temp = gene[i], gene[mapp[initial[i]]]\n",
    "            gene[mapp[initial[i]]], gene[i] = temp\n",
    "            mapp[initial[i]], mapp[temp[0]] = i, mapp[initial[i]]\n",
    "    return gene"
   ]
  },
  {
   "cell_type": "code",
   "execution_count": 3,
   "id": "61cc7916",
   "metadata": {
    "ExecuteTime": {
     "end_time": "2023-05-29T11:29:12.690242698Z",
     "start_time": "2023-05-29T11:29:12.674358921Z"
    }
   },
   "outputs": [],
   "source": [
    "def make_chromosome(initial=None):\n",
    "    if initial is None:\n",
    "        initial = [[0] * 9] * 9\n",
    "    chromosome = []\n",
    "    for i in range(9):\n",
    "        chromosome.append(make_gene(initial[i]))\n",
    "    return chromosome"
   ]
  },
  {
   "cell_type": "markdown",
   "id": "5eb55d7a",
   "metadata": {
    "collapsed": false,
    "jupyter": {
     "outputs_hidden": false
    }
   },
   "source": []
  },
  {
   "cell_type": "markdown",
   "id": "be99629e",
   "metadata": {},
   "source": [
    "## Part 2: Making First Generation"
   ]
  },
  {
   "cell_type": "markdown",
   "id": "0e917e9c",
   "metadata": {},
   "source": [
    "In this part, a function is implemented to randomly create a population."
   ]
  },
  {
   "cell_type": "code",
   "execution_count": 4,
   "id": "ed4d7238",
   "metadata": {
    "ExecuteTime": {
     "end_time": "2023-05-29T11:29:13.834764530Z",
     "start_time": "2023-05-29T11:29:13.791140818Z"
    }
   },
   "outputs": [],
   "source": [
    "def make_population(count, initial=None):\n",
    "    if initial is None:\n",
    "        initial = [[0] * 9] * 9\n",
    "    population = []\n",
    "    for _ in range(count):\n",
    "        population.append(make_chromosome(initial))\n",
    "    return population"
   ]
  },
  {
   "cell_type": "markdown",
   "id": "2dce4969",
   "metadata": {},
   "source": [
    "## Part 3: Fitness Function"
   ]
  },
  {
   "cell_type": "markdown",
   "id": "dfe610a8",
   "metadata": {},
   "source": [
    "The fitness function calculates how \"fit\" a chromosome (puzzle) is based on:\n",
    "- For each column: Subtract (number of times a number is seen) - 1 from the fitness for that number\n",
    "- For each 3x3 square: Subtract (number of times a number is seen) - 1 from the fitness for that number\n",
    "The higher the fitness, the closer the puzzle is to being solved."
   ]
  },
  {
   "cell_type": "code",
   "execution_count": 15,
   "id": "057aea0e",
   "metadata": {
    "ExecuteTime": {
     "end_time": "2023-05-29T11:29:14.742392976Z",
     "start_time": "2023-05-29T11:29:14.726582520Z"
    },
    "collapsed": false,
    "jupyter": {
     "outputs_hidden": false
    }
   },
   "outputs": [],
   "source": [
    "def get_fitness(chromosome):\n",
    "    \"\"\"Calculate the fitness of a chromosome (Sudoku puzzle).\"\"\"\n",
    "    fitness = 0\n",
    "\n",
    "    # Check rows\n",
    "    for row in chromosome:\n",
    "        unique_numbers = set(row)\n",
    "        fitness += len(unique_numbers)  # Reward for unique numbers\n",
    "\n",
    "    # Check columns\n",
    "    for col in range(9):\n",
    "        seen = set()\n",
    "        for row in range(9):\n",
    "            seen.add(chromosome[row][col])\n",
    "        fitness += len(seen)  # Reward for unique numbers in column\n",
    "\n",
    "    # Check 3x3 sub-grids\n",
    "    for grid_row in range(0, 9, 3):\n",
    "        for grid_col in range(0, 9, 3):\n",
    "            seen = set()\n",
    "            for row in range(grid_row, grid_row + 3):\n",
    "                for col in range(grid_col, grid_col + 3):\n",
    "                    seen.add(chromosome[row][col])\n",
    "            fitness += len(seen)  # Reward for unique numbers in grid\n",
    "\n",
    "    # Max fitness is 243 (81 per rows + columns + grids)\n",
    "    # Scale to return penalties for missing constraints\n",
    "    return fitness - 243\n"
   ]
  },
  {
   "cell_type": "code",
   "execution_count": 6,
   "id": "6a4c5baf",
   "metadata": {
    "ExecuteTime": {
     "end_time": "2023-05-29T11:29:14.990855629Z",
     "start_time": "2023-05-29T11:29:14.974964813Z"
    },
    "collapsed": false,
    "jupyter": {
     "outputs_hidden": false
    }
   },
   "outputs": [
    {
     "name": "stdout",
     "output_type": "stream",
     "text": [
      "-59\n"
     ]
    }
   ],
   "source": [
    "ch = make_chromosome()\n",
    "print(get_fitness(ch))\n",
    "\n",
    "\n",
    "def pch(ch):\n",
    "    for i in range(9):\n",
    "        for j in range(9):\n",
    "            print(ch[i][j], end=\" \")\n",
    "        print(\"\")\n"
   ]
  },
  {
   "cell_type": "markdown",
   "id": "b49c62cf",
   "metadata": {
    "collapsed": false,
    "jupyter": {
     "outputs_hidden": false
    }
   },
   "source": [
    "## Part 4: Crossover and Mutation"
   ]
  },
  {
   "cell_type": "markdown",
   "id": "a48e21e3",
   "metadata": {},
   "source": [
    "In this part, the crossover and mutation function is implemented to help in determining the next generation."
   ]
  },
  {
   "cell_type": "markdown",
   "id": "0b3165a6",
   "metadata": {},
   "source": [
    "### Crossover"
   ]
  },
  {
   "cell_type": "markdown",
   "id": "3f4b1fbc",
   "metadata": {},
   "source": [
    "the crossover function takes two chromosomes as input and makes two new chromosomes by combining them. This crossover function decides the parent of each gene separately, so the result is independent of the location of the genes."
   ]
  },
  {
   "cell_type": "code",
   "execution_count": 7,
   "id": "5b5e5769",
   "metadata": {
    "ExecuteTime": {
     "end_time": "2023-05-29T11:29:16.524690361Z",
     "start_time": "2023-05-29T11:29:16.506882079Z"
    }
   },
   "outputs": [],
   "source": [
    "def crossover(ch1, ch2):\n",
    "    new_child_1 = []\n",
    "    new_child_2 = []\n",
    "    for i in range(9):\n",
    "        x = rndm.randint(0, 1)\n",
    "        if x == 1:\n",
    "            new_child_1.append(ch1[i])\n",
    "            new_child_2.append(ch2[i])\n",
    "        elif x == 0:\n",
    "            new_child_2.append(ch1[i])\n",
    "            new_child_1.append(ch2[i])\n",
    "    return new_child_1, new_child_2"
   ]
  },
  {
   "cell_type": "markdown",
   "id": "bee65fa1",
   "metadata": {},
   "source": [
    "### Mutation"
   ]
  },
  {
   "cell_type": "code",
   "execution_count": 8,
   "id": "5e4b77f2",
   "metadata": {
    "ExecuteTime": {
     "end_time": "2023-05-29T11:29:17.334132855Z",
     "start_time": "2023-05-29T11:29:17.310513750Z"
    }
   },
   "outputs": [],
   "source": [
    "def mutation(ch, pm, initial):\n",
    "    for i in range(9):\n",
    "        x = rndm.randint(0, 100)\n",
    "        if x < pm * 100:\n",
    "            ch[i] = make_gene(initial[i])\n",
    "    return ch"
   ]
  },
  {
   "cell_type": "markdown",
   "id": "f1078fee",
   "metadata": {},
   "source": [
    "## Part 5: Implementing The Genetic Algorithm"
   ]
  },
  {
   "cell_type": "markdown",
   "id": "e7b04238",
   "metadata": {},
   "source": [
    "In this part, we use the components defined in previous steps to write the genetic algorithm."
   ]
  },
  {
   "cell_type": "markdown",
   "id": "cff9451a",
   "metadata": {
    "collapsed": false,
    "jupyter": {
     "outputs_hidden": false
    }
   },
   "source": [
    "Read the puzzle from the given address\n"
   ]
  },
  {
   "cell_type": "code",
   "execution_count": 9,
   "id": "1615f3a0",
   "metadata": {
    "ExecuteTime": {
     "end_time": "2023-05-29T11:29:18.596156848Z",
     "start_time": "2023-05-29T11:29:18.557229273Z"
    }
   },
   "outputs": [],
   "source": [
    "def read_puzzle(address):\n",
    "    puzzle = []\n",
    "    f = open(address, 'r')\n",
    "    for row in f:\n",
    "        temp = row.split()\n",
    "        puzzle.append([int(c) for c in temp])\n",
    "    return puzzle"
   ]
  },
  {
   "cell_type": "markdown",
   "id": "f7f09908",
   "metadata": {
    "collapsed": false,
    "jupyter": {
     "outputs_hidden": false
    }
   },
   "source": [
    "Get the mating pool using the random method"
   ]
  },
  {
   "cell_type": "code",
   "execution_count": 10,
   "id": "78ad13db",
   "metadata": {
    "ExecuteTime": {
     "end_time": "2023-05-29T11:29:18.872305918Z",
     "start_time": "2023-05-29T11:29:18.857373117Z"
    }
   },
   "outputs": [],
   "source": [
    "def r_get_mating_pool(population):\n",
    "    fitness_list = []\n",
    "    pool = []\n",
    "    for chromosome in population:\n",
    "        fitness = get_fitness(chromosome)\n",
    "        fitness_list.append((fitness, chromosome))\n",
    "    fitness_list.sort()\n",
    "    weight = list(range(1, len(fitness_list) + 1))\n",
    "    for _ in range(len(population)):\n",
    "        ch = rndm.choices(fitness_list, weight)[0]\n",
    "        pool.append(ch[1])\n",
    "    return pool\n"
   ]
  },
  {
   "cell_type": "markdown",
   "id": "ff9946ba",
   "metadata": {
    "collapsed": false,
    "jupyter": {
     "outputs_hidden": false
    }
   },
   "source": [
    "Get the mating pool using the weighted method"
   ]
  },
  {
   "cell_type": "code",
   "execution_count": 11,
   "id": "271217ae",
   "metadata": {
    "ExecuteTime": {
     "end_time": "2023-05-29T11:29:19.179367689Z",
     "start_time": "2023-05-29T11:29:19.163280603Z"
    }
   },
   "outputs": [],
   "source": [
    "def w_get_mating_pool(population):\n",
    "    fitness_list = []\n",
    "    pool = []\n",
    "    for chromosome in population:\n",
    "        fitness = get_fitness(chromosome)\n",
    "        fitness_list.append((fitness, chromosome))\n",
    "    weight = [fit[0] - fitness_list[0][0] for fit in fitness_list]\n",
    "    for _ in range(len(population)):\n",
    "        ch = rndm.choices(fitness_list, weights=weight)[0]\n",
    "        pool.append(ch[1])\n",
    "    return pool\n"
   ]
  },
  {
   "cell_type": "markdown",
   "id": "4cd8363b",
   "metadata": {
    "collapsed": false,
    "jupyter": {
     "outputs_hidden": false
    }
   },
   "source": [
    "Generate the offsprings from the mating pool"
   ]
  },
  {
   "cell_type": "code",
   "execution_count": 12,
   "id": "a0407dc1",
   "metadata": {
    "ExecuteTime": {
     "end_time": "2023-05-29T11:29:19.491939593Z",
     "start_time": "2023-05-29T11:29:19.472757374Z"
    }
   },
   "outputs": [],
   "source": [
    "def get_offsprings(population, initial, pm, pc):\n",
    "    new_pool = []\n",
    "    i = 0\n",
    "    while i < len(population):\n",
    "        ch1 = population[i]\n",
    "        ch2 = population[(i + 1) % len(population)]\n",
    "        x = rndm.randint(0, 100)\n",
    "        if x < pc * 100:\n",
    "            ch1, ch2 = crossover(ch1, ch2)\n",
    "        new_pool.append(mutation(ch1, pm, initial))\n",
    "        new_pool.append(mutation(ch2, pm, initial))\n",
    "        i += 2\n",
    "    return new_pool"
   ]
  },
  {
   "cell_type": "code",
   "execution_count": 13,
   "id": "969288f1",
   "metadata": {
    "ExecuteTime": {
     "end_time": "2023-05-29T11:29:20.023181388Z",
     "start_time": "2023-05-29T11:29:19.999854735Z"
    }
   },
   "outputs": [],
   "source": [
    "# Population size\n",
    "POPULATION = 1000\n",
    "\n",
    "# Number of generations\n",
    "REPETITION = 1000\n",
    "\n",
    "# Probability of mutation\n",
    "PM = 0.1\n",
    "\n",
    "# Probability of crossover\n",
    "PC = 0.95\n",
    "\n",
    "# Main genetic algorithm function\n",
    "def genetic_algorithm(initial_file):\n",
    "    initial = read_puzzle(initial_file)\n",
    "    population = make_population(POPULATION, initial)\n",
    "    for _ in range(REPETITION):\n",
    "        mating_pool = r_get_mating_pool(population)\n",
    "        rndm.shuffle(mating_pool)\n",
    "        population = get_offsprings(mating_pool, initial, PM, PC)\n",
    "        fit = [get_fitness(c) for c in population]\n",
    "        m = max(fit)\n",
    "        if m == 0:\n",
    "            return population\n",
    "    return population"
   ]
  },
  {
   "cell_type": "markdown",
   "id": "77d822a1",
   "metadata": {
    "collapsed": false,
    "jupyter": {
     "outputs_hidden": false
    }
   },
   "source": [
    "Run the algorithm and time it"
   ]
  },
  {
   "cell_type": "code",
   "execution_count": 18,
   "id": "ed21c4fa",
   "metadata": {
    "ExecuteTime": {
     "end_time": "2023-05-29T11:33:28.432304999Z",
     "start_time": "2023-05-29T11:30:30.731602922Z"
    }
   },
   "outputs": [
    {
     "name": "stdout",
     "output_type": "stream",
     "text": [
      "time_taken:  73.37765145301819\n",
      "max fitness : 0\n",
      "9 6 8 2 5 3 4 7 1 \n",
      "4 7 5 1 9 6 3 8 2 \n",
      "3 1 2 4 8 7 6 9 5 \n",
      "2 5 1 9 4 8 7 6 3 \n",
      "7 9 3 6 2 5 8 1 4 \n",
      "8 4 6 3 7 1 2 5 9 \n",
      "1 8 7 5 3 2 9 4 6 \n",
      "6 2 9 8 1 4 5 3 7 \n",
      "5 3 4 7 6 9 1 2 8 \n"
     ]
    }
   ],
   "source": [
    "tic = time.time()\n",
    "r = genetic_algorithm(\"./sample_sudoku/Test2.txt\")\n",
    "toc = time.time()\n",
    "print(\"time_taken: \", toc - tic)\n",
    "fit = [get_fitness(c) for c in r]\n",
    "m = max(fit)\n",
    "print('max fitness :', max(fit))\n",
    "\n",
    "# Print the chromosome with the highest fitness\n",
    "for c in r:\n",
    "    if get_fitness(c) == m:\n",
    "        pch(c)\n",
    "        break"
   ]
  },
  {
   "cell_type": "markdown",
   "id": "91319676",
   "metadata": {},
   "source": [
    "## Problems with Genetic Algorithm"
   ]
  },
  {
   "cell_type": "markdown",
   "id": "4d92717c",
   "metadata": {},
   "source": [
    "The algorithm may encounter a challenge when it becomes trapped at a local maximum and the desired solution, such as in a Sudoku problem, cannot be achieved. One approach to address this issue is to initially increase the mutation rate, although this can have its own drawbacks as mentioned earlier. Alternatively, a function can be defined to identify local maximums, such as by detecting repeated values, and in such cases, the mutation rate can be increased. Another solution involves increasing the population size or the number of iterations the algorithm runs. Modifying the fitness function or changing the method for selecting individuals in the mating pool are additional strategies. Overall, since the algorithm's nature involves randomness, it is possible to encounter this problem regardless of the chosen method, but running the algorithm multiple times can sometimes be helpful."
   ]
  }
 ],
 "metadata": {
  "kernelspec": {
   "display_name": "Python 3 (ipykernel)",
   "language": "python",
   "name": "python3"
  },
  "language_info": {
   "codemirror_mode": {
    "name": "ipython",
    "version": 3
   },
   "file_extension": ".py",
   "mimetype": "text/x-python",
   "name": "python",
   "nbconvert_exporter": "python",
   "pygments_lexer": "ipython3",
   "version": "3.12.1"
  }
 },
 "nbformat": 4,
 "nbformat_minor": 5
}
